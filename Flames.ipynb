{
 "cells": [
  {
   "cell_type": "code",
   "execution_count": 11,
   "metadata": {},
   "outputs": [
    {
     "name": "stdout",
     "output_type": "stream",
     "text": [
      "\n",
      "gh\n",
      "please enter two valid strings \n"
     ]
    }
   ],
   "source": [
    "z = 'FLAMES'\n",
    "z1= {'F' :'Friends','L' : 'Lovers', 'A' :'Ancestors', 'M' : 'Marriage','E' : 'Enemies','S' : 'Soul Mate'}\n",
    "def flames(s1,s2):\n",
    "    l1 = list(s1)\n",
    "    l2 = list(s2)\n",
    "    if l1 and l2:\n",
    "        for i in l1:\n",
    "            if i in l2:\n",
    "                l2.remove(i) \n",
    "                l1.remove(i)\n",
    "        l = (len(l1+ l2)-1) % 6\n",
    "        return z1[z[l]]\n",
    "    else:\n",
    "        return \"please enter two valid strings \"\n",
    "\n",
    "if __name__ == '__main__':\n",
    "    s1 = input().lower()\n",
    "    s2 = input().lower()\n",
    "    result = flames(s1,s2)\n",
    "    print(result)\n",
    "                \n",
    "                \n",
    "            \n",
    "    "
   ]
  },
  {
   "cell_type": "code",
   "execution_count": null,
   "metadata": {},
   "outputs": [],
   "source": []
  }
 ],
 "metadata": {
  "kernelspec": {
   "display_name": "Python 3",
   "language": "python",
   "name": "python3"
  },
  "language_info": {
   "codemirror_mode": {
    "name": "ipython",
    "version": 3
   },
   "file_extension": ".py",
   "mimetype": "text/x-python",
   "name": "python",
   "nbconvert_exporter": "python",
   "pygments_lexer": "ipython3",
   "version": "3.6.5"
  }
 },
 "nbformat": 4,
 "nbformat_minor": 2
}
